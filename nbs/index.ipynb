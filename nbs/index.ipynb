{
 "cells": [
  {
   "cell_type": "markdown",
   "metadata": {},
   "source": [
    "# Action Recognition\n",
    "\n",
    "> Implementation of various architectures to solve the UCF 101 actions dataset"
   ]
  },
  {
   "cell_type": "markdown",
   "metadata": {},
   "source": [
    "This repo implementation is using `fastai` library (version 2). It is based on the implementations found on [Action Recognition](https://github.com/eriklindernoren/Action-Recognition)."
   ]
  },
  {
   "cell_type": "markdown",
   "metadata": {},
   "source": [
    "## Install"
   ]
  },
  {
   "cell_type": "markdown",
   "metadata": {},
   "source": [
    "First install `fastai`: (version 2, it has been released)\n",
    "```bash\n",
    "$ pip install fastcore fastai\n",
    "```"
   ]
  },
  {
   "cell_type": "markdown",
   "metadata": {},
   "source": [
    "then clone the repo, and inside the repo's folder do:"
   ]
  },
  {
   "cell_type": "markdown",
   "metadata": {},
   "source": [
    "```bash\n",
    "$ pip install -e .\n",
    "```"
   ]
  },
  {
   "cell_type": "markdown",
   "metadata": {},
   "source": [
    "## Results\n",
    "Results are computed on a random splut 80%/20%. Using `fastai2` built-in `fit_one_cycle` training.\n",
    "\n",
    "- [train baseline](nbs/04_train_baseline.ipynb): Implements a Basic Resnet 34 encoder coupled with a simple attention layer over the frames. (91% accuracy)\n",
    "- [train convlstm](nbs/04_train_convlstm.ipynb): resnet34 encoder + LSTM layer over image features. (84.8% accuracy)\n",
    "- [train_transformer](nbs/05_train_transformer.ipynb): Added the new TimeSformer ~~Transformer based model, inspired from DETR. This is in early stages, only supporting batch size equal to 1.~~"
   ]
  },
  {
   "cell_type": "markdown",
   "metadata": {},
   "source": [
    "This package also provides function to download nad process the video dataset into multiple frames."
   ]
  }
 ],
 "metadata": {
  "kernelspec": {
   "display_name": "Python 3",
   "language": "python",
   "name": "python3"
  }
 },
 "nbformat": 4,
 "nbformat_minor": 4
}
