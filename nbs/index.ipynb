{
 "cells": [
  {
   "cell_type": "markdown",
   "metadata": {},
   "source": [
    "# Action Recognition\n",
    "\n",
    "> Implementation of various architectures to solve the UCF 101 actions dataset"
   ]
  },
  {
   "cell_type": "markdown",
   "metadata": {},
   "source": [
    "It is based on the implementations found on [Action Recognition](https://github.com/eriklindernoren/Action-Recognition).\n",
    "\n",
    "I try to keep with updated architectures that come out. Right now transformers are all we need... Follow @lucidrains to get the next attention based model ASAP."
   ]
  },
  {
   "cell_type": "markdown",
   "metadata": {},
   "source": [
    "## Install"
   ]
  },
  {
   "cell_type": "markdown",
   "metadata": {},
   "source": [
    "First install `fastai`:\n",
    "```bash\n",
    "$ pip install fastcore fastai\n",
    "```"
   ]
  },
  {
   "cell_type": "markdown",
   "metadata": {},
   "source": [
    "## Results\n",
    "Results are computed on a random splut 80%/20%. Using `fastai2` built-in `fit_one_cycle` training.\n",
    "\n",
    "- [train baseline](01_train_baseline.ipynb): Implements a Basic Resnet 34 encoder coupled with a simple attention layer over the frames. (91% accuracy)\n",
    "- [train convlstm](02_train_convlstm.ipynb): resnet34 encoder + LSTM layer over image features. (84.8% accuracy)\n",
    "- [train_transformer](03_train_transformer.ipynb): Added the new TimeSformer and STAM from @lucidrains implementations."
   ]
  },
  {
   "cell_type": "markdown",
   "metadata": {},
   "source": [
    "This package also provides function to download nad process the video dataset into multiple frames."
   ]
  },
  {
   "cell_type": "code",
   "execution_count": null,
   "metadata": {},
   "outputs": [],
   "source": []
  }
 ],
 "metadata": {
  "kernelspec": {
   "display_name": "Python 3",
   "language": "python",
   "name": "python3"
  },
  "language_info": {
   "codemirror_mode": {
    "name": "ipython",
    "version": 3
   },
   "file_extension": ".py",
   "mimetype": "text/x-python",
   "name": "python",
   "nbconvert_exporter": "python",
   "pygments_lexer": "ipython3",
   "version": "3.8.5"
  }
 },
 "nbformat": 4,
 "nbformat_minor": 4
}
