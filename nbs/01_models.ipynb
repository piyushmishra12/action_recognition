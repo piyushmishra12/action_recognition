{
 "cells": [
  {
   "cell_type": "code",
   "execution_count": null,
   "metadata": {},
   "outputs": [],
   "source": [
    "# default_exp models"
   ]
  },
  {
   "cell_type": "markdown",
   "metadata": {},
   "source": [
    "# Image sequence models\n",
    "> Models to predict the action class from a sequence of frames"
   ]
  },
  {
   "cell_type": "markdown",
   "metadata": {},
   "source": [
    "We will built a bunch of models to read the `ImageTuple` and output the corresponding `Category`."
   ]
  },
  {
   "cell_type": "code",
   "execution_count": null,
   "metadata": {},
   "outputs": [],
   "source": [
    "#export\n",
    "from fastai.vision.all import *"
   ]
  },
  {
   "cell_type": "code",
   "execution_count": null,
   "metadata": {},
   "outputs": [
    {
     "data": {
      "text/plain": [
       "'GeForce RTX 2070 SUPER'"
      ]
     },
     "execution_count": null,
     "metadata": {},
     "output_type": "execute_result"
    }
   ],
   "source": [
    "torch.cuda.set_device(1)\n",
    "torch.cuda.get_device_name()"
   ]
  },
  {
   "cell_type": "markdown",
   "metadata": {},
   "source": [
    "## A resnet based Encoder\n",
    "> Extracting features of images to latent variable space"
   ]
  },
  {
   "cell_type": "markdown",
   "metadata": {},
   "source": [
    "Let's build a tensor representing a batch of images:\n",
    "- `(batch_size, channels, width, hight)`"
   ]
  },
  {
   "cell_type": "code",
   "execution_count": null,
   "metadata": {},
   "outputs": [],
   "source": [
    "x = torch.rand(8, 3, 64, 64)"
   ]
  },
  {
   "cell_type": "markdown",
   "metadata": {},
   "source": [
    "We will build a basic Resnet based encoder:"
   ]
  },
  {
   "cell_type": "code",
   "execution_count": null,
   "metadata": {},
   "outputs": [],
   "source": [
    "#export\n",
    "@delegates(create_cnn_model)\n",
    "class Encoder(Module):\n",
    "    def __init__(self, arch=resnet34, n_in=3, weights_file=None, head=True, **kwargs):\n",
    "        \"Encoder based on resnet, if head=False returns the feature map\"\n",
    "        model = create_cnn_model(arch, n_out=1, n_in=n_in, pretrained=True, **kwargs)\n",
    "        if weights_file is not None: load_model(weights_file, model, opt=None)\n",
    "        self.body = model[0]\n",
    "        if head: self.head = model[1]\n",
    "        else:    self.head = nn.Sequential(*(model[1][0:3]))\n",
    "\n",
    "    def forward(self, x):\n",
    "        return self.head(self.body(x))"
   ]
  },
  {
   "cell_type": "markdown",
   "metadata": {},
   "source": [
    "this encoder will reduce images to a latent dimension space:"
   ]
  },
  {
   "cell_type": "code",
   "execution_count": null,
   "metadata": {},
   "outputs": [],
   "source": [
    "enc = Encoder(n_in=3, weights_file=None, head=False)"
   ]
  },
  {
   "cell_type": "code",
   "execution_count": null,
   "metadata": {},
   "outputs": [
    {
     "data": {
      "text/plain": [
       "Sequential(\n",
       "  (0): AdaptiveConcatPool2d(\n",
       "    (ap): AdaptiveAvgPool2d(output_size=1)\n",
       "    (mp): AdaptiveMaxPool2d(output_size=1)\n",
       "  )\n",
       "  (1): Flatten(full=False)\n",
       "  (2): BatchNorm1d(1024, eps=1e-05, momentum=0.1, affine=True, track_running_stats=True)\n",
       ")"
      ]
     },
     "execution_count": null,
     "metadata": {},
     "output_type": "execute_result"
    }
   ],
   "source": [
    "enc.head"
   ]
  },
  {
   "cell_type": "markdown",
   "metadata": {},
   "source": [
    "In this case, 1024"
   ]
  },
  {
   "cell_type": "code",
   "execution_count": null,
   "metadata": {},
   "outputs": [
    {
     "data": {
      "text/plain": [
       "torch.Size([8, 1024])"
      ]
     },
     "execution_count": null,
     "metadata": {},
     "output_type": "execute_result"
    }
   ],
   "source": [
    "encoded_var = enc(x)\n",
    "encoded_var.shape"
   ]
  },
  {
   "cell_type": "code",
   "execution_count": null,
   "metadata": {},
   "outputs": [],
   "source": [
    "test_eq(encoded_var.shape, [8,1024])"
   ]
  },
  {
   "cell_type": "markdown",
   "metadata": {},
   "source": [
    "## Simple Model\n",
    "> A very basic CNN model"
   ]
  },
  {
   "cell_type": "markdown",
   "metadata": {},
   "source": [
    "This network is just using an old resnet and expanding the sequence dimesion on the batch dim. It is not optimal."
   ]
  },
  {
   "cell_type": "code",
   "execution_count": null,
   "metadata": {},
   "outputs": [],
   "source": [
    "#export\n",
    "class SimpleModel(Module):\n",
    "    \"A simple CNN model\"\n",
    "    def __init__(self, arch=resnet34, weights_file=None, num_classes=30, seq_len=40, debug=False):\n",
    "        \"Create a simple arch based model\"\n",
    "        model = Encoder(arch, 3, weights_file, head=False)\n",
    "        nf = num_features_model(nn.Sequential(*model.body.children())) * 2\n",
    "        self.encoder = model\n",
    "        self.head = nn.Sequential(LinBnDrop(nf,  nf//2, p=0.2, act=nn.ReLU()),\n",
    "                                  LinBnDrop(nf//2, num_classes, p=0.05))\n",
    "        self.attention_layer = nn.Linear(nf, 1)\n",
    "        self.debug = debug\n",
    "\n",
    "    def forward(self, x):\n",
    "        if self.debug:  print(f' input len:   {len(x), x[0].shape}')\n",
    "        x = torch.stack(x, dim=1)\n",
    "        if self.debug:  print(f' after stack:   {x.shape}')\n",
    "        batch_size, seq_length, c, h, w = x.shape\n",
    "        x = x.view(batch_size * seq_length, c, h, w)\n",
    "        x = self.encoder(x)\n",
    "        x = x.view(batch_size, seq_length, -1)\n",
    "        if self.debug:  print(f' encoded shape: {x.shape}')\n",
    "        attention_w = F.softmax(self.attention_layer(x).squeeze(-1), dim=-1)\n",
    "        x = torch.sum(attention_w.unsqueeze(-1) * x, dim=1)\n",
    "        if self.debug:  print(f' after attention shape: {x.shape}')\n",
    "        x = self.head(x)\n",
    "        return x"
   ]
  },
  {
   "cell_type": "markdown",
   "metadata": {},
   "source": [
    "A splitter function to train separetely the parameers from the encoder and the head, this is a needed argument for the `Learner` to be able to call `Learner.freeze()`."
   ]
  },
  {
   "cell_type": "code",
   "execution_count": null,
   "metadata": {},
   "outputs": [],
   "source": [
    "#export\n",
    "def simple_splitter(model):\n",
    "    return [params(model.encoder), params(model.attention_layer)+ params(model.head)]"
   ]
  },
  {
   "cell_type": "markdown",
   "metadata": {},
   "source": [
    "A sequence of 10 images:"
   ]
  },
  {
   "cell_type": "code",
   "execution_count": null,
   "metadata": {},
   "outputs": [],
   "source": [
    "#bs, seq_len, ch, w, h\n",
    "inp = [torch.rand(64, 3, 64, 64) for _ in range(10)]"
   ]
  },
  {
   "cell_type": "code",
   "execution_count": null,
   "metadata": {},
   "outputs": [
    {
     "name": "stdout",
     "output_type": "stream",
     "text": [
      " input len:   (10, torch.Size([64, 3, 64, 64]))\n",
      " after stack:   torch.Size([64, 10, 3, 64, 64])\n",
      " encoded shape: torch.Size([64, 10, 1024])\n",
      " after attention shape: torch.Size([64, 1024])\n"
     ]
    }
   ],
   "source": [
    "sm = SimpleModel(debug=True, seq_len=10)\n",
    "out = sm(inp)\n",
    "test_eq(out.shape, [64, 30])"
   ]
  },
  {
   "cell_type": "markdown",
   "metadata": {},
   "source": [
    "## ConvLSTM\n",
    "> An LSTM encoded image model"
   ]
  },
  {
   "cell_type": "markdown",
   "metadata": {},
   "source": [
    "First the LSTM wrapper, with the `reset` method to erase hidden state before each epoch."
   ]
  },
  {
   "cell_type": "code",
   "execution_count": null,
   "metadata": {},
   "outputs": [],
   "source": [
    "#export\n",
    "class LSTM(Module):\n",
    "    def __init__(self, input_dim, n_hidden, n_layers, bidirectional=False, p=0.5):\n",
    "        self.lstm = nn.LSTM(input_dim, n_hidden, n_layers, batch_first=True, bidirectional=bidirectional)\n",
    "        self.drop = nn.Dropout(p)\n",
    "        self.h = None\n",
    "\n",
    "    def reset(self):\n",
    "        self.h = None\n",
    "\n",
    "    def forward(self, x):\n",
    "        if (self.h is not None) and (x.shape[0] != self.h[0].shape[1]): #dealing with last batch on valid\n",
    "#             self.h = [h_[:, :x.shape[0], :] for h_ in self.h]\n",
    "            self.h = None\n",
    "        raw, h = self.lstm(x, self.h)\n",
    "        out = self.drop(raw)\n",
    "        self.h = [h_.detach() for h_ in h]\n",
    "        return out, h"
   ]
  },
  {
   "cell_type": "markdown",
   "metadata": {},
   "source": [
    "We will take as input_size the output of the encoder, so the `latent_dimesion`, the `num_layers` is how many `nn.LSTMCell` are stacked and hidden dim is the same as before.\n",
    "\n",
    "Let's build a 16 layers LSTM stack:"
   ]
  },
  {
   "cell_type": "code",
   "execution_count": null,
   "metadata": {},
   "outputs": [],
   "source": [
    "lstm = LSTM(512, 512, 1, bidirectional=False)"
   ]
  },
  {
   "cell_type": "code",
   "execution_count": null,
   "metadata": {},
   "outputs": [],
   "source": [
    "# bs, input_dim, hidden_dim\n",
    "y = torch.rand(32, 10,  512)"
   ]
  },
  {
   "cell_type": "markdown",
   "metadata": {},
   "source": [
    "We get the same input, encoded on the hidden_dim"
   ]
  },
  {
   "cell_type": "code",
   "execution_count": null,
   "metadata": {},
   "outputs": [
    {
     "data": {
      "text/plain": [
       "(torch.Size([32, 10, 512]), torch.Size([1, 32, 512]), torch.Size([1, 32, 512]))"
      ]
     },
     "execution_count": null,
     "metadata": {},
     "output_type": "execute_result"
    }
   ],
   "source": [
    "out, (h,c) = lstm(y)\n",
    "out.shape, h.shape, c.shape"
   ]
  },
  {
   "cell_type": "markdown",
   "metadata": {},
   "source": [
    "It can deal with different batch sizes now:"
   ]
  },
  {
   "cell_type": "code",
   "execution_count": null,
   "metadata": {},
   "outputs": [
    {
     "data": {
      "text/plain": [
       "(torch.Size([16, 10, 512]), torch.Size([1, 16, 512]), torch.Size([1, 16, 512]))"
      ]
     },
     "execution_count": null,
     "metadata": {},
     "output_type": "execute_result"
    }
   ],
   "source": [
    "out, (h,c) = lstm(torch.rand(16,10,512))\n",
    "out.shape, h.shape, c.shape"
   ]
  },
  {
   "cell_type": "code",
   "execution_count": null,
   "metadata": {},
   "outputs": [],
   "source": [
    "lstm = LSTM(512, 512, 3, bidirectional=True)"
   ]
  },
  {
   "cell_type": "code",
   "execution_count": null,
   "metadata": {},
   "outputs": [
    {
     "data": {
      "text/plain": [
       "(torch.Size([16, 10, 1024]),\n",
       " torch.Size([6, 16, 512]),\n",
       " torch.Size([6, 16, 512]))"
      ]
     },
     "execution_count": null,
     "metadata": {},
     "output_type": "execute_result"
    }
   ],
   "source": [
    "out, (h,c) = lstm(torch.rand(16,10,512))\n",
    "out.shape,  h.shape, c.shape"
   ]
  },
  {
   "cell_type": "code",
   "execution_count": null,
   "metadata": {},
   "outputs": [],
   "source": [
    "#export\n",
    "class ConvLSTM(Module):\n",
    "    def __init__(self, arch=resnet34, weights_file=None, num_classes=30, lstm_layers=1, hidden_dim=1024, \n",
    "                 bidirectional=True, attention=True, debug=False):\n",
    "        model = Encoder(arch, 3, weights_file, head=False)\n",
    "        nf = num_features_model(nn.Sequential(*model.body.children())) * 2\n",
    "        self.encoder = model\n",
    "        self.lstm = LSTM(nf, hidden_dim, lstm_layers, bidirectional)\n",
    "        self.attention = attention\n",
    "        self.attention_layer = nn.Linear(2 * hidden_dim if bidirectional else hidden_dim, 1)\n",
    "        self.head = nn.Sequential(\n",
    "            LinBnDrop( (lstm_layers if not attention else 1)*(2 * hidden_dim if bidirectional else hidden_dim), \n",
    "                      hidden_dim, p=0.2, act=nn.ReLU()),\n",
    "            nn.Linear(hidden_dim, num_classes),\n",
    "        )\n",
    "        self.debug = debug\n",
    "        \n",
    "    def forward(self, x):\n",
    "        x = torch.stack(x, dim=1)\n",
    "        if self.debug:  print(f' after stack:   {x.shape}')\n",
    "        batch_size, seq_length, c, h, w = x.shape\n",
    "        x = x.view(batch_size * seq_length, c, h, w)\n",
    "        x = self.encoder(x)\n",
    "        if self.debug:  print(f' after encode:   {x.shape}')\n",
    "        x = x.view(batch_size, seq_length, -1)\n",
    "        if self.debug:  print(f' before lstm:   {x.shape}')\n",
    "        x, (h,c) = self.lstm(x)\n",
    "        if self.debug:  print(f' after lstm:   {x.shape}')\n",
    "        if self.attention:\n",
    "            attention_w = F.softmax(self.attention_layer(x).squeeze(-1), dim=-1)\n",
    "            if self.debug: print(f' attention_w: {attention_w.shape}')\n",
    "            out = torch.sum(attention_w.unsqueeze(-1) * x, dim=1)\n",
    "            if self.debug: print(f' after attention: {out.shape}')\n",
    "        else:\n",
    "            if self.debug: print(f' hidden state: {h.shape}')\n",
    "            out = h.permute(1,0,2).flatten(1)\n",
    "            if self.debug: print(f' hidden state flat: {out.shape}')\n",
    "        return self.head(out)\n",
    "    \n",
    "    def reset(self): self.lstm.reset()"
   ]
  },
  {
   "cell_type": "code",
   "execution_count": null,
   "metadata": {},
   "outputs": [],
   "source": [
    "#export\n",
    "def convlstm_splitter(model):\n",
    "    return [params(model.encoder), params(model.lstm) + params(model.attention_layer) + params(model.head)]"
   ]
  },
  {
   "cell_type": "code",
   "execution_count": null,
   "metadata": {},
   "outputs": [],
   "source": [
    "#bs, seq_len, ch, w, h\n",
    "inp = [torch.rand(32, 3, 64, 64) for _ in range(10)]"
   ]
  },
  {
   "cell_type": "code",
   "execution_count": null,
   "metadata": {},
   "outputs": [
    {
     "name": "stdout",
     "output_type": "stream",
     "text": [
      " after stack:   torch.Size([32, 10, 3, 64, 64])\n",
      " after encode:   torch.Size([320, 1024])\n",
      " before lstm:   torch.Size([32, 10, 1024])\n",
      " after lstm:   torch.Size([32, 10, 1024])\n",
      " hidden state: torch.Size([2, 32, 1024])\n",
      " hidden state flat: torch.Size([32, 2048])\n"
     ]
    }
   ],
   "source": [
    "clstm = ConvLSTM(attention=False, bidirectional=False, lstm_layers=2, debug=True)\n",
    "test_eq(clstm(inp).shape, [32, 30])"
   ]
  },
  {
   "cell_type": "code",
   "execution_count": null,
   "metadata": {},
   "outputs": [
    {
     "name": "stdout",
     "output_type": "stream",
     "text": [
      " after stack:   torch.Size([32, 10, 3, 64, 64])\n",
      " after encode:   torch.Size([320, 1024])\n",
      " before lstm:   torch.Size([32, 10, 1024])\n",
      " after lstm:   torch.Size([32, 10, 2048])\n",
      " attention_w: torch.Size([32, 10])\n",
      " after attention: torch.Size([32, 2048])\n"
     ]
    }
   ],
   "source": [
    "clstm = ConvLSTM(lstm_layers=3, debug=True)\n",
    "test_eq(clstm(inp).shape, [32, 30])"
   ]
  },
  {
   "cell_type": "code",
   "execution_count": null,
   "metadata": {},
   "outputs": [
    {
     "name": "stdout",
     "output_type": "stream",
     "text": [
      " after stack:   torch.Size([32, 10, 3, 64, 64])\n",
      " after encode:   torch.Size([320, 1024])\n",
      " before lstm:   torch.Size([32, 10, 1024])\n",
      " after lstm:   torch.Size([32, 10, 2048])\n",
      " attention_w: torch.Size([32, 10])\n",
      " after attention: torch.Size([32, 2048])\n"
     ]
    }
   ],
   "source": [
    "clstm = ConvLSTM(lstm_layers=1, debug=True)\n",
    "test_eq(clstm(inp).shape, [32, 30])"
   ]
  },
  {
   "cell_type": "markdown",
   "metadata": {},
   "source": [
    "## TimeSformer\n",
    "> thanks LucidRains https://github.com/lucidrains/TimeSformer-pytorch"
   ]
  },
  {
   "cell_type": "code",
   "execution_count": null,
   "metadata": {},
   "outputs": [],
   "source": [
    "#export\n",
    "from torch import nn, einsum\n",
    "from einops import rearrange, repeat"
   ]
  },
  {
   "cell_type": "code",
   "execution_count": null,
   "metadata": {},
   "outputs": [],
   "source": [
    "#export\n",
    "class PreNorm(nn.Module):\n",
    "    def __init__(self, dim, fn):\n",
    "        super().__init__()\n",
    "        self.fn = fn\n",
    "        self.norm = nn.LayerNorm(dim)\n",
    "\n",
    "    def forward(self, x, *args, **kwargs):\n",
    "        x = self.norm(x)\n",
    "        return self.fn(x, *args, **kwargs)"
   ]
  },
  {
   "cell_type": "code",
   "execution_count": null,
   "metadata": {},
   "outputs": [],
   "source": [
    "#export\n",
    "class FeedForward(nn.Module):\n",
    "    def __init__(self, dim, mult = 4, dropout = 0.):\n",
    "        super().__init__()\n",
    "        self.net = nn.Sequential(\n",
    "            nn.Linear(dim, dim * mult),\n",
    "            nn.GELU(),\n",
    "            nn.Dropout(dropout),\n",
    "            nn.Linear(dim * mult, dim)\n",
    "        )\n",
    "\n",
    "    def forward(self, x):\n",
    "        return self.net(x)"
   ]
  },
  {
   "cell_type": "code",
   "execution_count": null,
   "metadata": {},
   "outputs": [],
   "source": [
    "#export\n",
    "def attn(q, k, v):\n",
    "    sim = einsum('b i d, b j d -> b i j', q, k)\n",
    "    attn = sim.softmax(dim = -1)\n",
    "    out = einsum('b i j, b j d -> b i d', attn, v)\n",
    "    return out"
   ]
  },
  {
   "cell_type": "code",
   "execution_count": null,
   "metadata": {},
   "outputs": [],
   "source": [
    "#export\n",
    "class Attention(nn.Module):\n",
    "    def __init__(\n",
    "        self,\n",
    "        dim,\n",
    "        dim_head = 64,\n",
    "        heads = 8,\n",
    "        dropout = 0.\n",
    "    ):\n",
    "        super().__init__()\n",
    "        self.heads = heads\n",
    "        self.scale = dim_head ** -0.5\n",
    "        inner_dim = dim_head * heads\n",
    "\n",
    "        self.to_qkv = nn.Linear(dim, inner_dim * 3, bias = False)\n",
    "        self.to_out = nn.Sequential(\n",
    "            nn.Linear(inner_dim, dim),\n",
    "            nn.Dropout(dropout)\n",
    "        )\n",
    "\n",
    "    def forward(self, x, einops_from, einops_to, **einops_dims):\n",
    "        h = self.heads\n",
    "        q, k, v = self.to_qkv(x).chunk(3, dim = -1)\n",
    "        q, k, v = map(lambda t: rearrange(t, 'b n (h d) -> (b h) n d', h = h), (q, k, v))\n",
    "\n",
    "        q *= self.scale\n",
    "\n",
    "        # splice out classification token at index 1\n",
    "        (cls_q, q_), (cls_k, k_), (cls_v, v_) = map(lambda t: (t[:, 0:1], t[:, 1:]), (q, k, v))\n",
    "\n",
    "        # let classification token attend to key / values of all patches across time and space\n",
    "        cls_out = attn(cls_q, k, v)\n",
    "\n",
    "        # rearrange across time or space\n",
    "        q_, k_, v_ = map(lambda t: rearrange(t, f'{einops_from} -> {einops_to}', **einops_dims), (q_, k_, v_))\n",
    "\n",
    "        # expand cls token keys and values across time or space and concat\n",
    "        r = q_.shape[0] // cls_k.shape[0]\n",
    "        cls_k, cls_v = map(lambda t: repeat(t, 'b () d -> (b r) () d', r = r), (cls_k, cls_v))\n",
    "\n",
    "        k_ = torch.cat((cls_k, k_), dim = 1)\n",
    "        v_ = torch.cat((cls_v, v_), dim = 1)\n",
    "\n",
    "        # attention\n",
    "        out = attn(q_, k_, v_)\n",
    "\n",
    "        # merge back time or space\n",
    "        out = rearrange(out, f'{einops_to} -> {einops_from}', **einops_dims)\n",
    "\n",
    "        # concat back the cls token\n",
    "        out = torch.cat((cls_out, out), dim = 1)\n",
    "\n",
    "        # merge back the heads\n",
    "        out = rearrange(out, '(b h) n d -> b n (h d)', h = h)\n",
    "\n",
    "        # combine heads out\n",
    "        return self.to_out(out)"
   ]
  },
  {
   "cell_type": "code",
   "execution_count": null,
   "metadata": {},
   "outputs": [],
   "source": [
    "#export\n",
    "class TimeSformer(nn.Module):\n",
    "    def __init__(\n",
    "        self,\n",
    "        *,\n",
    "        dim,\n",
    "        num_frames,\n",
    "        num_classes,\n",
    "        image_size = 224,\n",
    "        patch_size = 16,\n",
    "        channels = 3,\n",
    "        depth = 12,\n",
    "        heads = 8,\n",
    "        dim_head = 64,\n",
    "        attn_dropout = 0.,\n",
    "        ff_dropout = 0.\n",
    "    ):\n",
    "        super().__init__()\n",
    "        assert image_size % patch_size == 0, 'Image dimensions must be divisible by the patch size.'\n",
    "\n",
    "        num_patches = (image_size // patch_size) ** 2\n",
    "        num_positions = num_frames * num_patches\n",
    "        patch_dim = channels * patch_size ** 2\n",
    "\n",
    "        self.patch_size = patch_size\n",
    "        self.to_patch_embedding = nn.Linear(patch_dim, dim)\n",
    "        self.pos_emb = nn.Embedding(num_positions + 1, dim)\n",
    "        self.cls_token = nn.Parameter(torch.randn(1, dim))\n",
    "\n",
    "        self.layers = nn.ModuleList([])\n",
    "        for _ in range(depth):\n",
    "            self.layers.append(nn.ModuleList([\n",
    "                PreNorm(dim, Attention(dim, dim_head = dim_head, heads = heads, dropout = attn_dropout)),\n",
    "                PreNorm(dim, Attention(dim, dim_head = dim_head, heads = heads, dropout = attn_dropout)),\n",
    "                PreNorm(dim, FeedForward(dim, dropout = ff_dropout))\n",
    "            ]))\n",
    "\n",
    "        self.to_out = nn.Sequential(\n",
    "            nn.LayerNorm(dim),\n",
    "            nn.Linear(dim, num_classes)\n",
    "        )\n",
    "\n",
    "    def forward(self, video):\n",
    "        video = torch.stack(video, dim=1)  #to deal with the ImageTuple\n",
    "        b, f, _, h, w, *_, device, p = *video.shape, video.device, self.patch_size\n",
    "        assert h % p == 0 and w % p == 0, f'height {h} and width {w} of video must be divisible by the patch size {p}'\n",
    "\n",
    "        n = (h // p) * (w // p)\n",
    "\n",
    "        video = rearrange(video, 'b f c (h p1) (w p2) -> b (f h w) (p1 p2 c)', p1 = p, p2 = p)\n",
    "        tokens = self.to_patch_embedding(video)\n",
    "\n",
    "        cls_token = repeat(self.cls_token, 'n d -> b n d', b = b)\n",
    "        x =  torch.cat((cls_token, tokens), dim = 1)\n",
    "        x += self.pos_emb(torch.arange(x.shape[1], device = device))\n",
    "\n",
    "        for (time_attn, spatial_attn, ff) in self.layers:\n",
    "            x = time_attn(x, 'b (f n) d', '(b n) f d', n = n) + x\n",
    "            x = spatial_attn(x, 'b (f n) d', '(b f) n d', f = f) + x\n",
    "            x = ff(x) + x\n",
    "\n",
    "        cls_token = x[:, 0]\n",
    "        return self.to_out(cls_token)"
   ]
  },
  {
   "cell_type": "code",
   "execution_count": null,
   "metadata": {},
   "outputs": [],
   "source": [
    "model = TimeSformer(\n",
    "    dim = 128,\n",
    "    image_size = 64,\n",
    "    patch_size = 16,\n",
    "    num_frames = 8,\n",
    "    num_classes = 10,\n",
    "    depth = 12,\n",
    "    heads = 8,\n",
    "    dim_head =  64,\n",
    "    attn_dropout = 0.1,\n",
    "    ff_dropout = 0.1\n",
    ")"
   ]
  },
  {
   "cell_type": "code",
   "execution_count": null,
   "metadata": {},
   "outputs": [],
   "source": [
    "video = tuple(torch.randn(2, 3, 64, 64) for _ in range(8)) # (batch x frames x channels x height x width)\n",
    "test_eq(model(video).shape, (2,10))"
   ]
  },
  {
   "cell_type": "markdown",
   "metadata": {},
   "source": [
    "# Export -"
   ]
  },
  {
   "cell_type": "code",
   "execution_count": null,
   "metadata": {},
   "outputs": [
    {
     "name": "stdout",
     "output_type": "stream",
     "text": [
      "Converted 00_core.ipynb.\n",
      "Converted 01_models.ipynb.\n",
      "Converted index.ipynb.\n"
     ]
    }
   ],
   "source": [
    "###### hide\n",
    "from nbdev.export import *\n",
    "notebook2script()"
   ]
  }
 ],
 "metadata": {
  "kernelspec": {
   "display_name": "Python 3",
   "language": "python",
   "name": "python3"
  }
 },
 "nbformat": 4,
 "nbformat_minor": 4
}
