{
 "cells": [
  {
   "cell_type": "code",
   "execution_count": 1,
   "metadata": {},
   "outputs": [],
   "source": [
    "# default_exp models"
   ]
  },
  {
   "cell_type": "markdown",
   "metadata": {},
   "source": [
    "# Image sequence models\n",
    "> Models to predict the action class from a sequence of frames"
   ]
  },
  {
   "cell_type": "markdown",
   "metadata": {},
   "source": [
    "We will built a bunch of models to read the `ImageTuple` and output the corresponding `Category`."
   ]
  },
  {
   "cell_type": "code",
   "execution_count": 2,
   "metadata": {},
   "outputs": [],
   "source": [
    "#export\n",
    "from fastai.vision.all import *"
   ]
  },
  {
   "cell_type": "code",
   "execution_count": 3,
   "metadata": {},
   "outputs": [
    {
     "data": {
      "text/plain": [
       "'GeForce RTX 2070 SUPER'"
      ]
     },
     "execution_count": 3,
     "metadata": {},
     "output_type": "execute_result"
    }
   ],
   "source": [
    "torch.cuda.set_device(1)\n",
    "torch.cuda.get_device_name()"
   ]
  },
  {
   "cell_type": "markdown",
   "metadata": {},
   "source": [
    "## A resnet based Encoder\n",
    "> Extracting features of images to latent variable space"
   ]
  },
  {
   "cell_type": "markdown",
   "metadata": {},
   "source": [
    "Let's build a tensor representing a batch of images:\n",
    "- `(batch_size, channels, width, hight)`"
   ]
  },
  {
   "cell_type": "code",
   "execution_count": 4,
   "metadata": {},
   "outputs": [],
   "source": [
    "x = torch.rand(8, 3, 64, 64)"
   ]
  },
  {
   "cell_type": "markdown",
   "metadata": {},
   "source": [
    "We will build a basic Resnet based encoder:"
   ]
  },
  {
   "cell_type": "code",
   "execution_count": 5,
   "metadata": {},
   "outputs": [],
   "source": [
    "#export\n",
    "@delegates(create_cnn_model)\n",
    "class Encoder(Module):\n",
    "    def __init__(self, arch=resnet34, n_in=3, weights_file=None, head=True, **kwargs):\n",
    "        \"Encoder based on resnet, if head=False returns the feature map\"\n",
    "        model = create_cnn_model(arch, n_out=1, n_in=n_in, pretrained=True, **kwargs)\n",
    "        if weights_file is not None: load_model(weights_file, model, opt=None)\n",
    "        self.body = model[0]\n",
    "        if head: self.head = model[1]\n",
    "        else:    self.head = nn.Sequential(*(model[1][0:3]))\n",
    "\n",
    "    def forward(self, x):\n",
    "        return self.head(self.body(x))"
   ]
  },
  {
   "cell_type": "markdown",
   "metadata": {},
   "source": [
    "this encoder will reduce images to a latent dimension space:"
   ]
  },
  {
   "cell_type": "code",
   "execution_count": 6,
   "metadata": {},
   "outputs": [],
   "source": [
    "enc = Encoder(n_in=3, weights_file=None, head=False)"
   ]
  },
  {
   "cell_type": "code",
   "execution_count": 7,
   "metadata": {},
   "outputs": [
    {
     "data": {
      "text/plain": [
       "Sequential(\n",
       "  (0): AdaptiveConcatPool2d(\n",
       "    (ap): AdaptiveAvgPool2d(output_size=1)\n",
       "    (mp): AdaptiveMaxPool2d(output_size=1)\n",
       "  )\n",
       "  (1): Flatten(full=False)\n",
       "  (2): BatchNorm1d(1024, eps=1e-05, momentum=0.1, affine=True, track_running_stats=True)\n",
       ")"
      ]
     },
     "execution_count": 7,
     "metadata": {},
     "output_type": "execute_result"
    }
   ],
   "source": [
    "enc.head"
   ]
  },
  {
   "cell_type": "markdown",
   "metadata": {},
   "source": [
    "In this case, 1024"
   ]
  },
  {
   "cell_type": "code",
   "execution_count": 8,
   "metadata": {},
   "outputs": [
    {
     "data": {
      "text/plain": [
       "torch.Size([8, 1024])"
      ]
     },
     "execution_count": 8,
     "metadata": {},
     "output_type": "execute_result"
    }
   ],
   "source": [
    "encoded_var = enc(x)\n",
    "encoded_var.shape"
   ]
  },
  {
   "cell_type": "code",
   "execution_count": 9,
   "metadata": {},
   "outputs": [],
   "source": [
    "test_eq(encoded_var.shape, [8,1024])"
   ]
  },
  {
   "cell_type": "markdown",
   "metadata": {},
   "source": [
    "## Simple Model\n",
    "> A very basic CNN model"
   ]
  },
  {
   "cell_type": "markdown",
   "metadata": {},
   "source": [
    "This network is just using an old resnet and expanding the sequence dimesion on the batch dim. It is not optimal."
   ]
  },
  {
   "cell_type": "code",
   "execution_count": 10,
   "metadata": {},
   "outputs": [],
   "source": [
    "#export\n",
    "class SimpleModel(Module):\n",
    "    \"A simple CNN model\"\n",
    "    def __init__(self, arch=resnet34, weights_file=None, num_classes=30, seq_len=40, debug=False):\n",
    "        \"Create a simple arch based model\"\n",
    "        model = Encoder(arch, 3, weights_file, head=False)\n",
    "        nf = num_features_model(nn.Sequential(*model.body.children())) * 2\n",
    "        self.encoder = model\n",
    "        self.head = nn.Sequential(LinBnDrop(nf,  nf//2, p=0.2, act=nn.ReLU()),\n",
    "                                  LinBnDrop(nf//2, num_classes, p=0.05))\n",
    "        self.attention_layer = nn.Linear(nf, 1)\n",
    "        self.debug = debug\n",
    "\n",
    "    def forward(self, x):\n",
    "        if self.debug:  print(f' input len:   {len(x), x[0].shape}')\n",
    "        x = torch.stack(x, dim=1)\n",
    "        if self.debug:  print(f' after stack:   {x.shape}')\n",
    "        batch_size, seq_length, c, h, w = x.shape\n",
    "        x = x.view(batch_size * seq_length, c, h, w)\n",
    "        x = self.encoder(x)\n",
    "        x = x.view(batch_size, seq_length, -1)\n",
    "        if self.debug:  print(f' encoded shape: {x.shape}')\n",
    "        attention_w = F.softmax(self.attention_layer(x).squeeze(-1), dim=-1)\n",
    "        x = torch.sum(attention_w.unsqueeze(-1) * x, dim=1)\n",
    "        if self.debug:  print(f' after attention shape: {x.shape}')\n",
    "        x = self.head(x)\n",
    "        return x"
   ]
  },
  {
   "cell_type": "markdown",
   "metadata": {},
   "source": [
    "A splitter function to train separetely the parameers from the encoder and the head, this is a needed argument for the `Learner` to be able to call `Learner.freeze()`."
   ]
  },
  {
   "cell_type": "code",
   "execution_count": 11,
   "metadata": {},
   "outputs": [],
   "source": [
    "#export\n",
    "def simple_splitter(model):\n",
    "    return [params(model.encoder), params(model.attention_layer)+ params(model.head)]"
   ]
  },
  {
   "cell_type": "markdown",
   "metadata": {},
   "source": [
    "A sequence of 10 images:"
   ]
  },
  {
   "cell_type": "code",
   "execution_count": 12,
   "metadata": {},
   "outputs": [],
   "source": [
    "#bs, seq_len, ch, w, h\n",
    "inp = [torch.rand(64, 3, 64, 64) for _ in range(10)]"
   ]
  },
  {
   "cell_type": "code",
   "execution_count": 13,
   "metadata": {},
   "outputs": [
    {
     "name": "stdout",
     "output_type": "stream",
     "text": [
      " input len:   (10, torch.Size([64, 3, 64, 64]))\n",
      " after stack:   torch.Size([64, 10, 3, 64, 64])\n",
      " encoded shape: torch.Size([64, 10, 1024])\n",
      " after attention shape: torch.Size([64, 1024])\n"
     ]
    }
   ],
   "source": [
    "sm = SimpleModel(debug=True, seq_len=10)\n",
    "out = sm(inp)\n",
    "test_eq(out.shape, [64, 30])"
   ]
  },
  {
   "cell_type": "markdown",
   "metadata": {},
   "source": [
    "## ConvLSTM\n",
    "> An LSTM encoded image model"
   ]
  },
  {
   "cell_type": "markdown",
   "metadata": {},
   "source": [
    "First the LSTM wrapper, with the `reset` method to erase hidden state before each epoch."
   ]
  },
  {
   "cell_type": "code",
   "execution_count": 14,
   "metadata": {},
   "outputs": [],
   "source": [
    "#export\n",
    "class LSTM(Module):\n",
    "    def __init__(self, input_dim, n_hidden, n_layers, bidirectional=False, p=0.5):\n",
    "        self.lstm = nn.LSTM(input_dim, n_hidden, n_layers, batch_first=True, bidirectional=bidirectional)\n",
    "        self.drop = nn.Dropout(p)\n",
    "        self.h = None\n",
    "\n",
    "    def reset(self):\n",
    "        self.h = None\n",
    "\n",
    "    def forward(self, x):\n",
    "        if (self.h is not None) and (x.shape[0] != self.h[0].shape[1]): #dealing with last batch on valid\n",
    "#             self.h = [h_[:, :x.shape[0], :] for h_ in self.h]\n",
    "            self.h = None\n",
    "        raw, h = self.lstm(x, self.h)\n",
    "        out = self.drop(raw)\n",
    "        self.h = [h_.detach() for h_ in h]\n",
    "        return out, h"
   ]
  },
  {
   "cell_type": "markdown",
   "metadata": {},
   "source": [
    "We will take as input_size the output of the encoder, so the `latent_dimesion`, the `num_layers` is how many `nn.LSTMCell` are stacked and hidden dim is the same as before.\n",
    "\n",
    "Let's build a 16 layers LSTM stack:"
   ]
  },
  {
   "cell_type": "code",
   "execution_count": 15,
   "metadata": {},
   "outputs": [],
   "source": [
    "lstm = LSTM(512, 512, 1, bidirectional=False)"
   ]
  },
  {
   "cell_type": "code",
   "execution_count": 16,
   "metadata": {},
   "outputs": [],
   "source": [
    "# bs, input_dim, hidden_dim\n",
    "y = torch.rand(32, 10,  512)"
   ]
  },
  {
   "cell_type": "markdown",
   "metadata": {},
   "source": [
    "We get the same input, encoded on the hidden_dim"
   ]
  },
  {
   "cell_type": "code",
   "execution_count": 17,
   "metadata": {},
   "outputs": [
    {
     "data": {
      "text/plain": [
       "(torch.Size([32, 10, 512]), torch.Size([1, 32, 512]), torch.Size([1, 32, 512]))"
      ]
     },
     "execution_count": 17,
     "metadata": {},
     "output_type": "execute_result"
    }
   ],
   "source": [
    "out, (h,c) = lstm(y)\n",
    "out.shape, h.shape, c.shape"
   ]
  },
  {
   "cell_type": "markdown",
   "metadata": {},
   "source": [
    "It can deal with different batch sizes now:"
   ]
  },
  {
   "cell_type": "code",
   "execution_count": 18,
   "metadata": {},
   "outputs": [
    {
     "data": {
      "text/plain": [
       "(torch.Size([16, 10, 512]), torch.Size([1, 16, 512]), torch.Size([1, 16, 512]))"
      ]
     },
     "execution_count": 18,
     "metadata": {},
     "output_type": "execute_result"
    }
   ],
   "source": [
    "out, (h,c) = lstm(torch.rand(16,10,512))\n",
    "out.shape, h.shape, c.shape"
   ]
  },
  {
   "cell_type": "code",
   "execution_count": 19,
   "metadata": {},
   "outputs": [],
   "source": [
    "lstm = LSTM(512, 512, 3, bidirectional=True)"
   ]
  },
  {
   "cell_type": "code",
   "execution_count": 20,
   "metadata": {},
   "outputs": [
    {
     "data": {
      "text/plain": [
       "(torch.Size([16, 10, 1024]),\n",
       " torch.Size([6, 16, 512]),\n",
       " torch.Size([6, 16, 512]))"
      ]
     },
     "execution_count": 20,
     "metadata": {},
     "output_type": "execute_result"
    }
   ],
   "source": [
    "out, (h,c) = lstm(torch.rand(16,10,512))\n",
    "out.shape,  h.shape, c.shape"
   ]
  },
  {
   "cell_type": "code",
   "execution_count": 21,
   "metadata": {},
   "outputs": [],
   "source": [
    "#export\n",
    "class ConvLSTM(Module):\n",
    "    def __init__(self, arch=resnet34, weights_file=None, num_classes=30, lstm_layers=1, hidden_dim=1024, \n",
    "                 bidirectional=True, attention=True, debug=False):\n",
    "        model = Encoder(arch, 3, weights_file, head=False)\n",
    "        nf = num_features_model(nn.Sequential(*model.body.children())) * 2\n",
    "        self.encoder = model\n",
    "        self.lstm = LSTM(nf, hidden_dim, lstm_layers, bidirectional)\n",
    "        self.attention = attention\n",
    "        self.attention_layer = nn.Linear(2 * hidden_dim if bidirectional else hidden_dim, 1)\n",
    "        self.head = nn.Sequential(\n",
    "            LinBnDrop( (lstm_layers if not attention else 1)*(2 * hidden_dim if bidirectional else hidden_dim), \n",
    "                      hidden_dim, p=0.2, act=nn.ReLU()),\n",
    "            nn.Linear(hidden_dim, num_classes),\n",
    "        )\n",
    "        self.debug = debug\n",
    "        \n",
    "    def forward(self, x):\n",
    "        x = torch.stack(x, dim=1)\n",
    "        if self.debug:  print(f' after stack:   {x.shape}')\n",
    "        batch_size, seq_length, c, h, w = x.shape\n",
    "        x = x.view(batch_size * seq_length, c, h, w)\n",
    "        x = self.encoder(x)\n",
    "        if self.debug:  print(f' after encode:   {x.shape}')\n",
    "        x = x.view(batch_size, seq_length, -1)\n",
    "        if self.debug:  print(f' before lstm:   {x.shape}')\n",
    "        x, (h,c) = self.lstm(x)\n",
    "        if self.debug:  print(f' after lstm:   {x.shape}')\n",
    "        if self.attention:\n",
    "            attention_w = F.softmax(self.attention_layer(x).squeeze(-1), dim=-1)\n",
    "            if self.debug: print(f' attention_w: {attention_w.shape}')\n",
    "            out = torch.sum(attention_w.unsqueeze(-1) * x, dim=1)\n",
    "            if self.debug: print(f' after attention: {out.shape}')\n",
    "        else:\n",
    "            if self.debug: print(f' hidden state: {h.shape}')\n",
    "            out = h.permute(1,0,2).flatten(1)\n",
    "            if self.debug: print(f' hidden state flat: {out.shape}')\n",
    "        return self.head(out)\n",
    "    \n",
    "    def reset(self): self.lstm.reset()"
   ]
  },
  {
   "cell_type": "code",
   "execution_count": 22,
   "metadata": {},
   "outputs": [],
   "source": [
    "#export\n",
    "def convlstm_splitter(model):\n",
    "    return [params(model.encoder), params(model.lstm) + params(model.attention_layer) + params(model.head)]"
   ]
  },
  {
   "cell_type": "code",
   "execution_count": 23,
   "metadata": {},
   "outputs": [],
   "source": [
    "#bs, seq_len, ch, w, h\n",
    "inp = [torch.rand(32, 3, 64, 64) for _ in range(10)]"
   ]
  },
  {
   "cell_type": "code",
   "execution_count": 24,
   "metadata": {},
   "outputs": [
    {
     "name": "stdout",
     "output_type": "stream",
     "text": [
      " after stack:   torch.Size([32, 10, 3, 64, 64])\n",
      " after encode:   torch.Size([320, 1024])\n",
      " before lstm:   torch.Size([32, 10, 1024])\n",
      " after lstm:   torch.Size([32, 10, 1024])\n",
      " hidden state: torch.Size([2, 32, 1024])\n",
      " hidden state flat: torch.Size([32, 2048])\n"
     ]
    }
   ],
   "source": [
    "clstm = ConvLSTM(attention=False, bidirectional=False, lstm_layers=2, debug=True)\n",
    "test_eq(clstm(inp).shape, [32, 30])"
   ]
  },
  {
   "cell_type": "code",
   "execution_count": 25,
   "metadata": {},
   "outputs": [
    {
     "name": "stdout",
     "output_type": "stream",
     "text": [
      " after stack:   torch.Size([32, 10, 3, 64, 64])\n",
      " after encode:   torch.Size([320, 1024])\n",
      " before lstm:   torch.Size([32, 10, 1024])\n",
      " after lstm:   torch.Size([32, 10, 2048])\n",
      " attention_w: torch.Size([32, 10])\n",
      " after attention: torch.Size([32, 2048])\n"
     ]
    }
   ],
   "source": [
    "clstm = ConvLSTM(lstm_layers=3, debug=True)\n",
    "test_eq(clstm(inp).shape, [32, 30])"
   ]
  },
  {
   "cell_type": "code",
   "execution_count": 26,
   "metadata": {},
   "outputs": [
    {
     "name": "stdout",
     "output_type": "stream",
     "text": [
      " after stack:   torch.Size([32, 10, 3, 64, 64])\n",
      " after encode:   torch.Size([320, 1024])\n",
      " before lstm:   torch.Size([32, 10, 1024])\n",
      " after lstm:   torch.Size([32, 10, 2048])\n",
      " attention_w: torch.Size([32, 10])\n",
      " after attention: torch.Size([32, 2048])\n"
     ]
    }
   ],
   "source": [
    "clstm = ConvLSTM(lstm_layers=1, debug=True)\n",
    "test_eq(clstm(inp).shape, [32, 30])"
   ]
  },
  {
   "cell_type": "markdown",
   "metadata": {},
   "source": [
    "## TimeSformer\n",
    "> thanks LucidRains https://github.com/lucidrains/TimeSformer-pytorch"
   ]
  },
  {
   "cell_type": "code",
   "execution_count": 27,
   "metadata": {},
   "outputs": [],
   "source": [
    "# !pip install timesformer-pytorch"
   ]
  },
  {
   "cell_type": "code",
   "execution_count": 28,
   "metadata": {},
   "outputs": [],
   "source": [
    "#export\n",
    "from timesformer_pytorch import TimeSformer as _TimeSformer"
   ]
  },
  {
   "cell_type": "code",
   "execution_count": 29,
   "metadata": {},
   "outputs": [],
   "source": [
    "#export\n",
    "class TimeSformer(_TimeSformer):\n",
    "    def forward(self, video):\n",
    "        video = torch.stack(video, dim=1)  #to deal with the ImageTuple\n",
    "        return super().forward(video)"
   ]
  },
  {
   "cell_type": "code",
   "execution_count": 30,
   "metadata": {},
   "outputs": [],
   "source": [
    "model = TimeSformer(\n",
    "    dim = 128,\n",
    "    image_size = 64,\n",
    "    patch_size = 16,\n",
    "    num_frames = 8,\n",
    "    num_classes = 10,\n",
    "    depth = 12,\n",
    "    heads = 8,\n",
    "    dim_head =  64,\n",
    "    attn_dropout = 0.1,\n",
    "    ff_dropout = 0.1\n",
    ")"
   ]
  },
  {
   "cell_type": "code",
   "execution_count": 31,
   "metadata": {},
   "outputs": [],
   "source": [
    "video = tuple(torch.randn(2, 3, 64, 64) for _ in range(8)) # (batch x frames x channels x height x width)\n",
    "test_eq(model(video).shape, (2,10))"
   ]
  },
  {
   "cell_type": "markdown",
   "metadata": {},
   "source": [
    "## STAM - Pytorch\n",
    "\n",
    "Implementation of <a href=\"https://arxiv.org/abs/2103.13915\">STAM (Space Time Attention Model)</a>, yet another pure and simple SOTA attention model that bests all previous models in video classification. This corroborates the finding of <a href=\"https://github.com/lucidrains/TimeSformer-pytorch\">TimeSformer</a>. Attention is all we need."
   ]
  },
  {
   "cell_type": "code",
   "execution_count": null,
   "metadata": {},
   "outputs": [],
   "source": [
    "# !pip install stam-pytorch"
   ]
  },
  {
   "cell_type": "code",
   "execution_count": 40,
   "metadata": {},
   "outputs": [],
   "source": [
    "#export\n",
    "from stam_pytorch import STAM as _STAM"
   ]
  },
  {
   "cell_type": "code",
   "execution_count": 41,
   "metadata": {},
   "outputs": [],
   "source": [
    "#export\n",
    "class STAM(_STAM):\n",
    "    def forward(self, video):\n",
    "        video = torch.stack(video, dim=1)  #to deal with the ImageTuple\n",
    "        return super().forward(video)"
   ]
  },
  {
   "cell_type": "code",
   "execution_count": 46,
   "metadata": {},
   "outputs": [],
   "source": [
    "model = STAM(\n",
    "    dim = 128,\n",
    "    image_size = 64,     # size of image\n",
    "    patch_size = 16,      # patch size\n",
    "    num_frames = 8,       # number of image frames, selected out of video\n",
    "    space_depth = 12,     # depth of vision transformer\n",
    "    space_heads = 8,      # heads of vision transformer\n",
    "    space_mlp_dim = 2048, # feedforward hidden dimension of vision transformer\n",
    "    time_depth = 6,       # depth of time transformer (in paper, it was shallower, 6)\n",
    "    time_heads = 8,       # heads of time transformer\n",
    "    time_mlp_dim = 2048,  # feedforward hidden dimension of time transformer\n",
    "    num_classes = 10,    # number of output classes\n",
    "    space_dim_head = 64,  # space transformer head dimension\n",
    "    time_dim_head = 64,   # time transformer head dimension\n",
    "    dropout = 0.,         # dropout\n",
    "    emb_dropout = 0.      # embedding dropout\n",
    ")"
   ]
  },
  {
   "cell_type": "code",
   "execution_count": 47,
   "metadata": {},
   "outputs": [],
   "source": [
    "video = tuple(torch.randn(2, 3, 64, 64) for _ in range(8)) # (batch x frames x channels x height x width)\n",
    "test_eq(model(video).shape, (2,10))"
   ]
  },
  {
   "cell_type": "markdown",
   "metadata": {},
   "source": [
    "# Export -"
   ]
  },
  {
   "cell_type": "code",
   "execution_count": 48,
   "metadata": {},
   "outputs": [
    {
     "name": "stdout",
     "output_type": "stream",
     "text": [
      "Converted 00_core.ipynb.\n",
      "Converted 01_models.ipynb.\n",
      "Converted index.ipynb.\n"
     ]
    }
   ],
   "source": [
    "###### hide\n",
    "from nbdev.export import *\n",
    "notebook2script()"
   ]
  },
  {
   "cell_type": "code",
   "execution_count": null,
   "metadata": {},
   "outputs": [],
   "source": []
  }
 ],
 "metadata": {
  "kernelspec": {
   "display_name": "Python 3",
   "language": "python",
   "name": "python3"
  },
  "language_info": {
   "codemirror_mode": {
    "name": "ipython",
    "version": 3
   },
   "file_extension": ".py",
   "mimetype": "text/x-python",
   "name": "python",
   "nbconvert_exporter": "python",
   "pygments_lexer": "ipython3",
   "version": "3.8.5"
  }
 },
 "nbformat": 4,
 "nbformat_minor": 4
}
